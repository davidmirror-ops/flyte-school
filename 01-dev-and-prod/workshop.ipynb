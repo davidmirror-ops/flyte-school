{
 "cells": [
  {
   "cell_type": "markdown",
   "metadata": {},
   "source": [
    "<div align=\"center\">\n",
    "  <img src=\"https://raw.githubusercontent.com/flyteorg/static-resources/main/flyte/readme/flyte_and_lf.png\" alt=\"Flyte and LF AI & Data Logo\" width=\"250\">\n",
    "</div>\n",
    "\n",
    "<h1 align=\"center\">\n",
    "  Flyte School\n",
    "</h1>\n",
    "\n",
    "<h3 align=\"center\">\n",
    "  Developing and Productionizing Data and ML Pipelines\n",
    "</h3>\n",
    "\n",
    "This module guides you on preparing pipelines for both development and production.\n",
    "\n",
    "### Learning Objectives\n",
    "\n",
    "Learn how to:\n",
    "- Simplify the pipeline development lifecycle\n",
    "- Build custom images without using a Dockerfile\n",
    "- Explore different methods to register Flyte tasks and workflows\n",
    "- Make data and ML pipelines production-ready\n",
    "- Understand how projects and domains facilitate team collaboration and the transition from development to production\n",
    "\n",
    "### Outline\n",
    "\n",
    "* A brief introduction to Flyte tasks and workflows\n",
    "* How to simplify local development\n",
    "* How to simplify iteration on a Flyte cluster\n",
    "* How to make pipelines production-ready\n",
    "* How to transition pipelines from development to production"
   ]
  },
  {
   "cell_type": "markdown",
   "metadata": {},
   "source": [
    "## A brief introduction to Flyte tasks and workflows"
   ]
  },
  {
   "cell_type": "markdown",
   "metadata": {},
   "source": [
    "Task is a core building block for type-safety, statelessness and reproducibility.\n",
    "\n",
    "A workflow is basically a domain-specific language (DSL) that builds an\n",
    "execution graph that uses tasks as the building blocks for more complex pipelines.\n",
    "\n",
    "<image src=\"static/flyte_workflows.png\" width=\"500px\">"
   ]
  },
  {
   "cell_type": "code",
   "execution_count": 1,
   "metadata": {},
   "outputs": [
    {
     "data": {
      "text/plain": [
       "5.0"
      ]
     },
     "execution_count": 1,
     "metadata": {},
     "output_type": "execute_result"
    }
   ],
   "source": [
    "from flytekit import task, workflow\n",
    "\n",
    "\n",
    "@task\n",
    "def error(x: list[float], y: list[float]) -> list[float]:\n",
    "    return [xi - yi for xi, yi in zip(x, y)]\n",
    "\n",
    "@task\n",
    "def squares(x: list[float]) -> list[float]:\n",
    "    out = [xi ** 2 for xi in x]\n",
    "    return out\n",
    "\n",
    "@task\n",
    "def sum_task(x: list[float]) -> float:\n",
    "    return sum(x)\n",
    "\n",
    "@workflow\n",
    "def sum_of_squares(x: list[float], y: list[float]) -> float:\n",
    "    errors = error(x=x, y=y)\n",
    "    squared = squares(x=errors)\n",
    "    return sum_task(x=squared)\n",
    "\n",
    "\n",
    "sum_of_squares(x=[1.0, 2.0, 4.0], y=[1.0, 3.0, 6.0])"
   ]
  },
  {
   "cell_type": "code",
   "execution_count": 2,
   "metadata": {},
   "outputs": [
    {
     "name": "stdout",
     "output_type": "stream",
     "text": [
      "DefaultNamedTupleOutput(o0=LogisticRegression(C=0.1, max_iter=5000), o1=0.989010989010989, o2=1.0)\n"
     ]
    }
   ],
   "source": [
    "%%sh\n",
    "python workflows/example_intro.py"
   ]
  },
  {
   "cell_type": "markdown",
   "metadata": {},
   "source": [
    "### Summary\n",
    "\n",
    "A task exhibits the following characteristics:\n",
    "\n",
    "* Versioned (typically aligned with the git sha)\n",
    "* Strong interfaces (annotated inputs and outputs)\n",
    "* Declarative\n",
    "* Independently executable\n",
    "* Suitable for unit testing\n",
    "\n",
    "Workflows can be written as Python functions, but it’s important to distinguish tasks and workflows.\n",
    "\n",
    "A task’s body executes at run-time on a Kubernetes cluster, in a Query Engine like BigQuery, or on hosted services like AWS Batch or Sagemaker.\n",
    "\n",
    "In contrast, a workflow’s body doesn’t perform computations; it’s used to structure tasks. A workflow’s body executes at registration time, during the workflow’s registration process. Registration involves uploading the packaged (serialized) code to the Flyte backend, enabling the workflow to be triggered."
   ]
  },
  {
   "cell_type": "markdown",
   "metadata": {},
   "source": [
    "### Resources\n",
    "\n",
    "* [Imperative workflows](https://docs.flyte.org/en/latest/flytesnacks/examples/basics/imperative_workflow.html)\n",
    "* [Launch plans](https://docs.flyte.org/en/latest/flytesnacks/examples/basics/launch_plan.html)\n",
    "* [Map tasks](https://docs.flyte.org/en/latest/flytesnacks/examples/advanced_composition/map_task.html)\n",
    "* [Dynamic workflows](https://docs.flyte.org/en/latest/flytesnacks/examples/advanced_composition/dynamic_workflow.html)"
   ]
  },
  {
   "cell_type": "markdown",
   "metadata": {},
   "source": [
    "## How to simplify local development"
   ]
  },
  {
   "cell_type": "markdown",
   "metadata": {},
   "source": [
    "Local development is a crucial prerequisite before promoting your data and ML pipelines to production. \n",
    "It facilitates faster debugging, allows for rapid experimentation, and, consequently, \n",
    "instills confidence in you when you want to productionize your pipelines.\n",
    "\n",
    "### What is local development in Flyte?\n",
    "\n",
    "It involves executing tasks and workflows locally, right on your terminal as a simple starting point.\n",
    "\n",
    "For instance, you should be able to run your code as a Python script:"
   ]
  },
  {
   "cell_type": "code",
   "execution_count": 3,
   "metadata": {},
   "outputs": [
    {
     "name": "stdout",
     "output_type": "stream",
     "text": [
      "DefaultNamedTupleOutput(o0=LogisticRegression(C=0.1, max_iter=5000), o1=0.989010989010989, o2=1.0)\n"
     ]
    }
   ],
   "source": [
    "%%sh\n",
    "python workflows/example_intro.py"
   ]
  },
  {
   "cell_type": "markdown",
   "metadata": {},
   "source": [
    "This should essentially be your first step in testing and debugging.\n",
    "\n",
    "However, with `python`, you don't get to leverage all the benefits offered by Flyte, such as type checking.\n",
    "\n",
    "That's when you'll want to transition to Flyte-native commands like `pyflyte run`.\n",
    "\n",
    "`pyflyte run` is the simplest command to test your tasks and workflows locally."
   ]
  },
  {
   "cell_type": "code",
   "execution_count": 5,
   "metadata": {},
   "outputs": [
    {
     "name": "stdout",
     "output_type": "stream",
     "text": [
      "DefaultNamedTupleOutput(o0=LogisticRegression(C=0.01, max_iter=2500), o1=0.9743589743589743, o2=0.9855072463768116)\n"
     ]
    }
   ],
   "source": [
    "%%sh\n",
    "pyflyte run \\\n",
    "    workflows/example_intro.py training_workflow \\\n",
    "    --hyperparameters '{\"C\": 0.01}'"
   ]
  },
  {
   "cell_type": "code",
   "execution_count": 6,
   "metadata": {},
   "outputs": [
    {
     "name": "stdout",
     "output_type": "stream",
     "text": [
      "       species  bill_length_mm  bill_depth_mm  flipper_length_mm  body_mass_g\n",
      "0       Adelie            39.1           18.7              181.0       3750.0\n",
      "1       Adelie            39.5           17.4              186.0       3800.0\n",
      "2       Adelie            40.3           18.0              195.0       3250.0\n",
      "4       Adelie            36.7           19.3              193.0       3450.0\n",
      "5       Adelie            39.3           20.6              190.0       3650.0\n",
      "..         ...             ...            ...                ...          ...\n",
      "339  Chinstrap            55.8           19.8              207.0       4000.0\n",
      "340  Chinstrap            43.5           18.1              202.0       3400.0\n",
      "341  Chinstrap            49.6           18.2              193.0       3775.0\n",
      "342  Chinstrap            50.8           19.0              210.0       4100.0\n",
      "343  Chinstrap            50.2           18.7              198.0       3775.0\n",
      "\n",
      "[342 rows x 5 columns]\n"
     ]
    }
   ],
   "source": [
    "%%sh\n",
    "pyflyte run \\\n",
    "    workflows/example_intro.py get_data"
   ]
  },
  {
   "cell_type": "code",
   "execution_count": 7,
   "metadata": {},
   "outputs": [
    {
     "name": "stdout",
     "output_type": "stream",
     "text": [
      "\u001b[1m                                                                                \u001b[0m\n",
      "\u001b[1m \u001b[0m\u001b[1;33mUsage: \u001b[0m\u001b[1mpyflyte run [\u001b[0m\u001b[1;36mOPTIONS\u001b[0m\u001b[1m] \u001b[0m\u001b[1;36mCOMMAND\u001b[0m\u001b[1m [\u001b[0m\u001b[1;36mARGS\u001b[0m\u001b[1m]...\u001b[0m\u001b[1m                                \u001b[0m\u001b[1m \u001b[0m\n",
      "\u001b[1m                                                                                \u001b[0m\n",
      " This command can execute either a workflow or a task from the command line,    \n",
      " allowing for fully self-contained scripts. Tasks and workflows can be imported \n",
      " from other files.                                                              \n",
      " \u001b[2mNote: This command is compatible with regular Python packages, but not with \u001b[0m   \n",
      " \u001b[2mnamespace packages. When determining the root of your project, it identifies \u001b[0m  \n",
      " \u001b[2mthe first folder without an ``__init__.py`` file.\u001b[0m                              \n",
      "                                                                                \n",
      "\u001b[2m╭─\u001b[0m\u001b[2m Options \u001b[0m\u001b[2m───────────────────────────────────────────────────────────────────\u001b[0m\u001b[2m─╮\u001b[0m\n",
      "\u001b[2m│\u001b[0m \u001b[1;36m-\u001b[0m\u001b[1;36m-remote\u001b[0m               \u001b[1;33m                         \u001b[0m  Whether to register and    \u001b[2m│\u001b[0m\n",
      "\u001b[2m│\u001b[0m                                                   run the workflow on a      \u001b[2m│\u001b[0m\n",
      "\u001b[2m│\u001b[0m                                                   Flyte deployment           \u001b[2m│\u001b[0m\n",
      "\u001b[2m│\u001b[0m \u001b[1;36m-\u001b[0m\u001b[1;36m-project\u001b[0m          \u001b[1;32m-p\u001b[0m  \u001b[1;33mTEXT                     \u001b[0m  Project to register and    \u001b[2m│\u001b[0m\n",
      "\u001b[2m│\u001b[0m                                                   run this workflow in       \u001b[2m│\u001b[0m\n",
      "\u001b[2m│\u001b[0m \u001b[1;36m-\u001b[0m\u001b[1;36m-domain\u001b[0m           \u001b[1;32m-d\u001b[0m  \u001b[1;33mTEXT                     \u001b[0m  Domain to register and run \u001b[2m│\u001b[0m\n",
      "\u001b[2m│\u001b[0m                                                   this workflow in           \u001b[2m│\u001b[0m\n",
      "\u001b[2m│\u001b[0m \u001b[1;36m-\u001b[0m\u001b[1;36m-name\u001b[0m                 \u001b[1;33mTEXT                     \u001b[0m  Name to assign to this     \u001b[2m│\u001b[0m\n",
      "\u001b[2m│\u001b[0m                                                   execution                  \u001b[2m│\u001b[0m\n",
      "\u001b[2m│\u001b[0m \u001b[1;36m-\u001b[0m\u001b[1;36m-destination\u001b[0m\u001b[1;36m-dir\u001b[0m      \u001b[1;33mTEXT                     \u001b[0m  Directory inside the image \u001b[2m│\u001b[0m\n",
      "\u001b[2m│\u001b[0m                                                   where the tar file         \u001b[2m│\u001b[0m\n",
      "\u001b[2m│\u001b[0m                                                   containing the code will   \u001b[2m│\u001b[0m\n",
      "\u001b[2m│\u001b[0m                                                   be copied to               \u001b[2m│\u001b[0m\n",
      "\u001b[2m│\u001b[0m \u001b[1;36m-\u001b[0m\u001b[1;36m-copy\u001b[0m\u001b[1;36m-all\u001b[0m             \u001b[1;33m                         \u001b[0m  Copy all files in the      \u001b[2m│\u001b[0m\n",
      "\u001b[2m│\u001b[0m                                                   source root directory to   \u001b[2m│\u001b[0m\n",
      "\u001b[2m│\u001b[0m                                                   the destination directory  \u001b[2m│\u001b[0m\n",
      "\u001b[2m│\u001b[0m \u001b[1;36m-\u001b[0m\u001b[1;36m-image\u001b[0m            \u001b[1;32m-i\u001b[0m  \u001b[1;33mTEXT                     \u001b[0m  Image used to register and \u001b[2m│\u001b[0m\n",
      "\u001b[2m│\u001b[0m                                                   run.                       \u001b[2m│\u001b[0m\n",
      "\u001b[2m│\u001b[0m \u001b[1;36m-\u001b[0m\u001b[1;36m-service\u001b[0m\u001b[1;36m-account\u001b[0m      \u001b[1;33mTEXT                     \u001b[0m  Service account used when  \u001b[2m│\u001b[0m\n",
      "\u001b[2m│\u001b[0m                                                   executing this workflow    \u001b[2m│\u001b[0m\n",
      "\u001b[2m│\u001b[0m \u001b[1;36m-\u001b[0m\u001b[1;36m-wait\u001b[0m\u001b[1;36m-execution\u001b[0m       \u001b[1;33m                         \u001b[0m  Whether to wait for the    \u001b[2m│\u001b[0m\n",
      "\u001b[2m│\u001b[0m                                                   execution to finish        \u001b[2m│\u001b[0m\n",
      "\u001b[2m│\u001b[0m \u001b[1;36m-\u001b[0m\u001b[1;36m-dump\u001b[0m\u001b[1;36m-snippet\u001b[0m         \u001b[1;33m                         \u001b[0m  Whether to dump a code     \u001b[2m│\u001b[0m\n",
      "\u001b[2m│\u001b[0m                                                   snippet instructing how to \u001b[2m│\u001b[0m\n",
      "\u001b[2m│\u001b[0m                                                   load the workflow          \u001b[2m│\u001b[0m\n",
      "\u001b[2m│\u001b[0m                                                   execution using            \u001b[2m│\u001b[0m\n",
      "\u001b[2m│\u001b[0m                                                   flyteremote                \u001b[2m│\u001b[0m\n",
      "\u001b[2m│\u001b[0m \u001b[1;36m-\u001b[0m\u001b[1;36m-overwrite\u001b[0m\u001b[1;36m-cache\u001b[0m      \u001b[1;33m                         \u001b[0m  Whether to overwrite the   \u001b[2m│\u001b[0m\n",
      "\u001b[2m│\u001b[0m                                                   cache if it already exists \u001b[2m│\u001b[0m\n",
      "\u001b[2m│\u001b[0m \u001b[1;36m-\u001b[0m\u001b[1;36m-envs\u001b[0m                 \u001b[1;33mJSON OBJECT OR JSON/YAML \u001b[0m  Environment variables to   \u001b[2m│\u001b[0m\n",
      "\u001b[2m│\u001b[0m                        \u001b[1;33mFILE PATH                \u001b[0m  set in the container       \u001b[2m│\u001b[0m\n",
      "\u001b[2m│\u001b[0m \u001b[1;36m-\u001b[0m\u001b[1;36m-help\u001b[0m                 \u001b[1;33m                         \u001b[0m  Show this message and      \u001b[2m│\u001b[0m\n",
      "\u001b[2m│\u001b[0m                                                   exit.                      \u001b[2m│\u001b[0m\n",
      "\u001b[2m╰──────────────────────────────────────────────────────────────────────────────╯\u001b[0m\n",
      "\n"
     ]
    }
   ],
   "source": [
    "%%sh\n",
    "pyflyte run --help"
   ]
  },
  {
   "cell_type": "markdown",
   "metadata": {},
   "source": [
    "No-brainer: You need to install the required dependencies locally before running your code.\n",
    "\n",
    "### Local caching\n",
    "\n",
    "Flyte, by default, provides local caching to store the outputs of your executions locally.\n",
    "\n",
    "### [Bonus] Agents\n",
    "\n",
    "An agent is a long-running, stateless service that can be used to execute tasks. \n",
    "It reduces the overhead of creating a pod for each task and enables interactions with external services.\n",
    "\n",
    "Whenever you need to interact with external services from within Flyte and want to test it locally, you can use agents.\n",
    "\n",
    "You can run an agent just like any other Flyte task or workflow using the `pyflyte run` command.\n",
    "\n",
    "## How to simplify iteration on a Flyte cluster\n",
    "\n",
    "Running code locally, on your terminal, is beneficial for catching code-related bugs early on.\n",
    "\n",
    "For quick iterations, access to GPUs, data lineage, and overall leveraging everything Flyte has to offer, \n",
    "you need to run code on a local Flyte cluster.\n",
    "\n",
    "This should pretty much set the standards for running your code on a production Flyte cluster.\n",
    "\n",
    "The good thing is, you just need to add the `--remote` flag to your `pyflyte run` command:"
   ]
  },
  {
   "cell_type": "code",
   "execution_count": 18,
   "metadata": {},
   "outputs": [],
   "source": [
    "import os\n",
    "from pathlib import Path\n",
    "\n",
    "os.environ[\"FLYTECTL_CONFIG\"] = str(Path.home() / \".flyte/config-sandbox.yaml\")\n",
    "os.environ[\"IMAGE\"] = \"ghcr.io/unionai-oss/flyte-school:00-intro-latest\""
   ]
  },
  {
   "cell_type": "code",
   "execution_count": 10,
   "metadata": {},
   "outputs": [
    {
     "name": "stdout",
     "output_type": "stream",
     "text": [
      "Go to http://localhost:30080/console/projects/flytesnacks/domains/development/executions/f5f5a509862414c998e0 to see execution in the console.\n"
     ]
    }
   ],
   "source": [
    "%%sh\n",
    "pyflyte run --remote \\\n",
    "    --image $IMAGE \\\n",
    "    workflows/example_intro.py training_workflow \\\n",
    "    --hyperparameters '{\"C\": 0.01}'"
   ]
  },
  {
   "cell_type": "markdown",
   "metadata": {},
   "source": [
    "### Decoding the power of `--remote`!\n",
    "\n",
    "* Every task in your workflow runs in a Kubernetes pod\n",
    "* Data lineage\n",
    "* Recover a partially successful run\n",
    "* Your workflow and tasks are versioned\n",
    "* Executions are immutable\n",
    "* Type checking\n",
    "* Timeline view\n",
    "* Parallelism\n",
    "\n",
    "### What's `--image`?\n",
    "\n",
    "The workflow we're using requires additional libraries besides `flytekit` and the ones it installs.\n",
    "The `image` parameter is used to supply the Docker image that Flyte uses to spin up containers\n",
    "in which the workflow code runs.\n",
    "\n",
    "If you want to avoid the hassle of building a Docker image, you can use the image spec."
   ]
  },
  {
   "cell_type": "markdown",
   "metadata": {},
   "source": [
    "```python\n",
    "custom_image = ImageSpec(\n",
    "    name=\"dev-and-prod\",\n",
    "    registry=\"localhost:30000\",\n",
    "    packages=[\"palmerpenguins\", \"scikit-learn\"],\n",
    ")\n",
    "\n",
    "@task(container_image=custom_image)\n",
    "def t1() -> ...:\n",
    "    ...\n",
    "```"
   ]
  },
  {
   "cell_type": "code",
   "execution_count": 21,
   "metadata": {},
   "outputs": [
    {
     "name": "stderr",
     "output_type": "stream",
     "text": [
      "time=\"2024-01-22T22:27:02+05:30\" level=fatal msg=\"failed to create context: context \\\"flyte-sandbox\\\" already exists\"\n"
     ]
    },
    {
     "name": "stdout",
     "output_type": "stream",
     "text": [
      "Image localhost:30000/dev-and-prod:vWfB_Tn_U7YWRVvdChB_fA.. found. Skip building.\n",
      "Image localhost:30000/dev-and-prod:vWfB_Tn_U7YWRVvdChB_fA.. found. Skip building.\n",
      "Image localhost:30000/dev-and-prod:vWfB_Tn_U7YWRVvdChB_fA.. found. Skip building.\n",
      "Image localhost:30000/dev-and-prod:vWfB_Tn_U7YWRVvdChB_fA.. found. Skip building.\n",
      "Go to http://localhost:30080/console/projects/flytesnacks/domains/development/executions/f41bfc16c933d48af853 to see execution in the console.\n"
     ]
    }
   ],
   "source": [
    "%%sh\n",
    "envd context create --name flyte-sandbox --builder tcp --builder-address localhost:30003 --use\n",
    "pyflyte run --remote \\\n",
    "    workflows/example_intro_with_imagespec.py training_workflow \\\n",
    "    --hyperparameters '{\"C\": 0.01}'"
   ]
  },
  {
   "cell_type": "markdown",
   "metadata": {},
   "source": [
    "### Caching\n",
    "\n",
    "Caching is especially useful during quick iterations while developing pipelines. \n",
    "None of us wants to spend more resources and time than needed \n",
    "running an execution which has succeeded already again and again!"
   ]
  },
  {
   "cell_type": "markdown",
   "metadata": {},
   "source": [
    "```python\n",
    "@task(cache=True, cache_version=\"1.0\")\n",
    "def t1() -> ...:\n",
    "    ...\n",
    "```"
   ]
  },
  {
   "cell_type": "markdown",
   "metadata": {},
   "source": [
    "### Decks\n",
    "\n",
    "Decks allow you to gain visibility into your tasks. You can use Flyte Decks to render visualizations.\n",
    "\n",
    "You can render:\n",
    "* Dataframe\n",
    "* Markdown\n",
    "* Box plot\n",
    "* Image\n",
    "* Table\n",
    "* Source code\n",
    "* Anything HTML!"
   ]
  },
  {
   "cell_type": "code",
   "execution_count": 3,
   "metadata": {},
   "outputs": [
    {
     "name": "stdout",
     "output_type": "stream",
     "text": [
      "Running Execution on Remote.\n",
      "Image localhost:30000/flyte-decks-example:zBKgwt8ut0I5M17TSnD__Q.. not found. Building...\n",
      "Run command: envd build --path /var/folders/6f/xcgm46ds59j7g__gfxmkgdf80000gn/T/flytec4f1akcm/control_plane_metadata/local_flytekit/fb5585976dd0eee78f1ee0625c268c9a  --platform linux/amd64 --output type=image,name=localhost:30000/flyte-decks-example:zBKgwt8ut0I5M17TSnD__Q..,push=true \n",
      "#1 [internal] setting pip cache mount permissions\n",
      "#1 CACHED\n",
      "#2 docker-image://cr.flyte.org/flyteorg/flytekit:py3.11-1.10.2\n",
      "#2 resolve cr.flyte.org/flyteorg/flytekit:py3.11-1.10.2\n",
      "#2 resolve cr.flyte.org/flyteorg/flytekit:py3.11-1.10.2 1.3s done\n",
      "#2 DONE 1.3s\n",
      "#3 [internal] prepare language\n",
      "#3 CACHED\n",
      "#4 [internal] language environment and system packages\n",
      "#4 CACHED\n",
      "#5 [internal] setting PyPI index dir /etc\n",
      "#5 CACHED\n",
      "#6 [internal] setting PyPI index file /etc/pip.conf\n",
      "#6 CACHED\n",
      "#7 [internal] create cache dir\n",
      "#7 CACHED\n",
      "#8 [internal] pip install plotly\n",
      "#8 2.180 Requirement already satisfied: plotly in /usr/local/lib/python3.11/site-packages (5.18.0)\n",
      "#8 2.191 Requirement already satisfied: tenacity>=6.2.0 in /usr/local/lib/python3.11/site-packages (from plotly) (8.2.3)\n",
      "#8 2.194 Requirement already satisfied: packaging in /usr/local/lib/python3.11/site-packages (from plotly) (23.2)\n",
      "#8 5.627 WARNING: Running pip as the 'root' user can result in broken permissions and conflicting behaviour with the system package manager. It is recommended to use a virtual environment instead: https://pip.pypa.io/warnings/venv\n",
      "#8 6.803\n",
      "#8 6.803 [notice] A new release of pip is available: 23.1.2 -> 23.3.2\n",
      "#8 6.803 [notice] To update, run: pip install --upgrade pip\n",
      "#8 DONE 7.0s\n",
      "#9 exporting to image\n",
      "#9 exporting layers 0.0s done\n",
      "#9 exporting manifest sha256:5efb237094c00c72975f78ffdaa4eb24c3fa6f325ea19e4a73b0e022df3e6097 done\n",
      "#9 exporting config sha256:601bf332f0c0ba086701fb415cb6ec0b38dd3ea5e58340e386a3de6cdd7712ed done\n",
      "#9 pushing layers 0.0s done\n",
      "#9 pushing manifest for localhost:30000/flyte-decks-example:zBKgwt8ut0I5M17TSnD__Q..@sha256:5efb237094c00c72975f78ffdaa4eb24c3fa6f325ea19e4a73b0e022df3e6097 done\n",
      "#9 DONE 0.1s\n",
      "\n",
      "[✔] Go to http://localhost:30080/console/projects/flytesnacks/domains/development/executions/fedc27cf804fe4a5ab48 to see execution in the console.\n"
     ]
    }
   ],
   "source": [
    "%%sh\n",
    "pyflyte run --remote \\\n",
    "    workflows/example_deck.py pca_plot"
   ]
  },
  {
   "cell_type": "markdown",
   "metadata": {},
   "source": [
    "Overall, Decks, from the perspective of streamlining execution on a Flyte cluster, \n",
    "allows you to debug faster and enables you to quickly grasp how your workflow's faring.\n",
    "\n",
    "### Registration\n",
    "\n",
    "`pyflyte run` incorporates packaging, registering, and launching a workflow into a single command.\n",
    "It is designed to be a quick and easy iteration tool to get started with Flyte or test small self-contained scripts. \n",
    "\n",
    "`pyflyte run` leverages fast registration. How? When a script is executed using `pyflyte run`, \n",
    "the script is bundled up and uploaded to FlyteAdmin. \n",
    "When the task is executed in the backend, this zipped file is extracted and utilized.\n",
    "\n",
    "Fast registration is useful when you already have a container image hosted in your container \n",
    "registry of choice, and you change your workflow/task code without any alterations to \n",
    "your system-level or Python dependencies.\n",
    "\n",
    "In contrast, regular registration expects the user to embed the user-defined workflows and all \n",
    "their dependencies into a Docker image. This method ensures that the workflows are fully containerized, \n",
    "making both the system- and Python-level dependencies, along with your workflow source code, immutable.\n",
    "\n",
    "<image src=\"static/flyte-registration-patterns.png\" width=\"800px\">"
   ]
  },
  {
   "cell_type": "markdown",
   "metadata": {},
   "source": [
    "`pyflyte package` and `flytectl register` are appropriate if you’re:\n",
    "\n",
    "* Working with multiple Flyte clusters since it uses a portable package\n",
    "* Deploying workflows to a production context\n",
    "* Testing your Flyte workflows in your CI/CD infrastructure\n",
    "\n",
    "When iterating on your workflows, fast registration is the go-to option.\n",
    "\n",
    "## How to make pipelines production-ready\n",
    "\n",
    "Your pipeline's working fine, and now you want to productionize it.\n",
    "\n",
    "### What's productionizing a pipeline?\n",
    "\n",
    "You need to ensure that your pipeline is now ready to handle real-world scenarios. \n",
    "From the perspective of data and ML pipelines, this can mean any of the following:\n",
    "\n",
    "* Ensuring your pipelines have the necessary resources\n",
    "* Receiving notifications when there's a workflow failure\n",
    "* Setting a cadence at which your workflow has to run\n",
    "* Establishing a logging system\n",
    "* Providing access to GPUs\n",
    "* Adding secrets\n",
    "\n",
    "### Task resources\n",
    "\n",
    "The following attributes can be specified for a Resource.\n",
    "\n",
    "* cpu\n",
    "* mem\n",
    "* gpu\n",
    "\n",
    "```python\n",
    "@task(requests=Resources(cpu=\"1\", mem=\"100Mi\"), limits=Resources(cpu=\"2\", mem=\"150Mi\"))\n",
    "def t1() -> ...:\n",
    "    ...\n",
    "```\n",
    "\n",
    "A task can possibly be allocated more resources than it requests, but never more than its limit. \n",
    "Requests are treated as hints to schedule tasks on nodes with available resources, whereas limits are hard constraints.\n",
    "\n",
    "[Resource](https://docs.flyte.org/en/latest/flytesnacks/examples/productionizing/customizing_resources.html)\n",
    "\n",
    "### Notifications\n",
    "\n",
    "If a workflow fails in production, you want to be notified of the failure, right?\n",
    "\n",
    "* Email\n",
    "* Pagerduty\n",
    "* Slack\n",
    "\n",
    "```python\n",
    "wacky_int_doubler_lp = LaunchPlan.get_or_create(\n",
    "    name=\"wacky_int_doubler\",\n",
    "    workflow=int_doubler_wf,\n",
    "    default_inputs={\"a\": 4},\n",
    "    notifications=[\n",
    "        Email(\n",
    "            phases=[WorkflowExecutionPhase.FAILED],\n",
    "            recipients_email=[\"me@example.com\", \"you@example.com\"],\n",
    "        ),\n",
    "        Email(\n",
    "            phases=[WorkflowExecutionPhase.SUCCEEDED],\n",
    "            recipients_email=[\"myboss@example.com\"],\n",
    "        ),\n",
    "        Slack(\n",
    "            phases=[\n",
    "                WorkflowExecutionPhase.SUCCEEDED,\n",
    "                WorkflowExecutionPhase.ABORTED,\n",
    "                WorkflowExecutionPhase.TIMED_OUT,\n",
    "            ],\n",
    "            recipients_email=[\"myteam@slack.com\"],\n",
    "        ),\n",
    "    ],\n",
    ")\n",
    "```\n",
    "\n",
    "You can use Sendgrid mail servers to set up notifications.\n",
    "\n",
    "[Resource](https://docs.flyte.org/en/latest/flytesnacks/examples/productionizing/lp_notifications.html)\n",
    "\n",
    "### Scheduling\n",
    "\n",
    "Launch plans can be set to run automatically on a schedule using the Flyte native scheduler. \n",
    "\n",
    "```python\n",
    "training_launchplan = LaunchPlan.get_or_create(\n",
    "    training_workflow,\n",
    "\n",
    "    name=\"scheduled_training_workflow\",\n",
    "\n",
    "    # run every 2 minutes\n",
    "    schedule=CronSchedule(schedule=\"*/2 * * * *\"),\n",
    "\n",
    "    # use default inputs\n",
    "    default_inputs={\"hyperparameters\": Hyperparameters(C=0.1, max_iter=1000)},\n",
    ")\n",
    "```\n",
    "\n",
    "[Resource](https://docs.flyte.org/en/latest/flytesnacks/examples/productionizing/lp_schedules.html)"
   ]
  },
  {
   "cell_type": "code",
   "execution_count": 5,
   "metadata": {},
   "outputs": [
    {
     "name": "stdout",
     "output_type": "stream",
     "text": [
      "Running pyflyte register from /Users/samhitaalla/Desktop/flyte-school/01-dev-and-prod with images ImageConfig(default_image=Image(name='default', fqn='cr.flyte.org/flyteorg/flytekit', tag='py3.11-1.10.2'), images=[Image(name='default', fqn='cr.flyte.org/flyteorg/flytekit', tag='py3.11-1.10.2')]) and image destination folder /root on 1 package(s) ('/Users/samhitaalla/Desktop/flyte-school/01-dev-and-prod/workflows/example_intro_with_launchplan.py',)\n",
      "Registering against localhost:30080\n",
      "Detected Root /Users/samhitaalla/Desktop/flyte-school/01-dev-and-prod, using this to create deployable package...\n",
      "No output path provided, using a temporary directory at /var/folders/6f/xcgm46ds59j7g__gfxmkgdf80000gn/T/tmpqtqxvhfn instead\n",
      "Computed version is 6mtHoaLpKe_kFa4R21kFtA==\n",
      "Loading packages ['workflows.example_intro_with_launchplan'] under source root /Users/samhitaalla/Desktop/flyte-school/01-dev-and-prod\n",
      "Successfully serialized 7 flyte objects\n",
      "[✔] Registration workflows.example_intro_with_launchplan.get_data type TASK successful with version 6mtHoaLpKe_kFa4R21kFtA==\n",
      "[✔] Registration workflows.example_intro_with_launchplan.split_data type TASK successful with version 6mtHoaLpKe_kFa4R21kFtA==\n",
      "[✔] Registration workflows.example_intro_with_launchplan.train_model type TASK successful with version 6mtHoaLpKe_kFa4R21kFtA==\n",
      "[✔] Registration workflows.example_intro_with_launchplan.evaluate type TASK successful with version 6mtHoaLpKe_kFa4R21kFtA==\n",
      "[✔] Registration workflows.example_intro_with_launchplan.training_workflow type WORKFLOW successful with version 6mtHoaLpKe_kFa4R21kFtA==\n",
      "[✔] Registration workflows.example_intro_with_launchplan.training_workflow type LAUNCH_PLAN successful with version 6mtHoaLpKe_kFa4R21kFtA==\n",
      "[✔] Activation workflows.example_intro_with_launchplan.training_workflow type LAUNCH_PLAN activated\n",
      "[✔] Registration scheduled_training_workflow type LAUNCH_PLAN successful with version 6mtHoaLpKe_kFa4R21kFtA==\n",
      "[✔] Activation scheduled_training_workflow type LAUNCH_PLAN activated\n",
      "Successfully registered 7 entities\n"
     ]
    }
   ],
   "source": [
    "%%sh\n",
    "pyflyte register workflows/example_intro_with_launchplan.py --activate-launchplans"
   ]
  },
  {
   "cell_type": "code",
   "execution_count": 6,
   "metadata": {},
   "outputs": [
    {
     "name": "stdout",
     "output_type": "stream",
     "text": [
      "\u001b[2K\u001b[36m Deactivating...\u001b[0m \u001b[90m━━━━━━━━━━━━━━━━━━━━━━━━━━━━━━━━━━━━━━━━\u001b[0m \u001b[35m  0%\u001b[0m \u001b[36m-:--:--\u001b[0m\n",
      " Launchplan was set to INACTIVE: scheduled_training_workflow:6mtHoaLpKe_kFa4R21kFtA==\n",
      "\u001b[2K\n",
      "\u001b[?25h"
     ]
    }
   ],
   "source": [
    "%%sh\n",
    "pyflyte launchplan scheduled_training_workflow --deactivate"
   ]
  },
  {
   "cell_type": "markdown",
   "metadata": {},
   "source": [
    "### Logging\n",
    "\n",
    "To debug your workflows in production, you want to access logs from your tasks as they run. \n",
    "These logs are different from the core Flyte platform logs, are specific to execution.\n",
    "\n",
    "Some examples of the log aggregators include cloud-hosted solutions like \n",
    "AWS CloudWatch, GCP Stackdriver, Splunk, Datadog, etc.\n",
    "\n",
    "[Resource](https://docs.flyte.org/en/latest/flytesnacks/examples/productionizing/configure_logging_links.html)\n",
    "\n",
    "### GPU\n",
    "\n",
    "Most ML training jobs typically require a GPU, \n",
    "and you want to ensure that you assign the right GPU to your training job.\n",
    "\n",
    "```python\n",
    "from flytekit.extras.accelerators import T4\n",
    "\n",
    "\n",
    "@task(\n",
    "    limits=Resources(gpu=\"1\"),\n",
    "    accelerator=T4,\n",
    ")\n",
    "def my_task() -> None:\n",
    "    ...\n",
    "```\n",
    "\n",
    "### Secrets\n",
    "\n",
    "You don't want to expose the secrets that your pipelines require, \n",
    "especially in production deployments.\n",
    "\n",
    "```python\n",
    "@task(\n",
    "    secret_requests=[\n",
    "        Secret(\n",
    "            group=SECRET_GROUP,\n",
    "            key=SECRET_NAME,\n",
    "            mount_requirement=Secret.MountType.ENV_VAR,\n",
    "        )\n",
    "    ]\n",
    ")\n",
    "def secret_file_task() -> Tuple[str, str]:\n",
    "    secret_manager = flytekit.current_context().secrets\n",
    "\n",
    "    # get the secrets filename\n",
    "    f = secret_manager.get_secrets_file(SECRET_GROUP, SECRET_NAME)\n",
    "\n",
    "    # get secret value from an environment variable\n",
    "    secret_val = secret_manager.get(SECRET_GROUP, SECRET_NAME)\n",
    "\n",
    "    # returning the filename and the secret_val\n",
    "    return f, secret_val\n",
    "```\n",
    "\n",
    "You can configure a secret management system like AWS secret manager or Vault to inject secrets."
   ]
  },
  {
   "cell_type": "markdown",
   "metadata": {},
   "source": [
    "That's all it takes to make your pipelines production-ready!\n",
    "\n",
    "## How to transition pipelines from development to production\n",
    "\n",
    "Domains allow you to transition pipelines between different environments, \n",
    "providing an abstraction to isolate resources and feature configuration for each deployment environment.\n",
    "\n",
    "Examples of domains include development, staging, and production. \n",
    "We configure Flyte domains with these names and specify lower resource limits \n",
    "on the development and staging domains than on production domains.\n",
    "\n",
    "We also use domains to disable launch plans and schedules on development and staging domains, \n",
    "as these features are typically meant for production deployments."
   ]
  },
  {
   "cell_type": "code",
   "execution_count": 19,
   "metadata": {},
   "outputs": [
    {
     "name": "stdout",
     "output_type": "stream",
     "text": [
      "Running Execution on Remote.\n",
      "\n",
      "[✔] Go to http://localhost:30080/console/projects/flytesnacks/domains/development/executions/f9c9a5edf073b4aafbc0 to see execution in the console.\n"
     ]
    }
   ],
   "source": [
    "%%sh\n",
    "pyflyte run --remote \\\n",
    "    --domain development \\\n",
    "    --image $IMAGE \\\n",
    "    workflows/example_intro.py training_workflow \\\n",
    "    --hyperparameters '{\"C\": 0.01}'"
   ]
  },
  {
   "cell_type": "code",
   "execution_count": 20,
   "metadata": {},
   "outputs": [
    {
     "name": "stdout",
     "output_type": "stream",
     "text": [
      "Running Execution on Remote.\n",
      "\n",
      "[✔] Go to http://localhost:30080/console/projects/flytesnacks/domains/production/executions/f49742d8c19b54fae888 to see execution in the console.\n"
     ]
    }
   ],
   "source": [
    "%%sh\n",
    "pyflyte run --remote \\\n",
    "    --domain production \\\n",
    "    --image $IMAGE \\\n",
    "    workflows/example_intro.py training_workflow \\\n",
    "    --hyperparameters '{\"C\": 0.01}'"
   ]
  },
  {
   "cell_type": "markdown",
   "metadata": {},
   "source": [
    "Projects are collections of tasks and workflows, \n",
    "providing a way to associate a project with a team or an individual. \n",
    "Flyte allows users to set resource limits and automatically provides basic reports and dashboards for each project."
   ]
  },
  {
   "cell_type": "code",
   "execution_count": 21,
   "metadata": {},
   "outputs": [
    {
     "name": "stdout",
     "output_type": "stream",
     "text": [
      "Running Execution on Remote.\n",
      "\n",
      "[✔] Go to http://localhost:30080/console/projects/flytesnacks/domains/production/executions/f95222b38157b41489be to see execution in the console.\n"
     ]
    }
   ],
   "source": [
    "%%sh\n",
    "pyflyte run --remote \\\n",
    "    --project flytesnacks \\\n",
    "    --domain production \\\n",
    "    --image $IMAGE \\\n",
    "    workflows/example_intro.py training_workflow \\\n",
    "    --hyperparameters '{\"C\": 0.01}'"
   ]
  },
  {
   "cell_type": "markdown",
   "metadata": {},
   "source": [
    "You can update cluster resources by adding the required quota to a YAML file as follows:\n",
    "\n",
    "```yaml\n",
    "attributes:\n",
    "    projectQuotaCpu: \"50\"\n",
    "    projectQuotaMemory: \"100Gi\"\n",
    "domain: production\n",
    "project: flytesnacks\n",
    "```\n",
    "\n",
    "Then run `flytectl update cluster-resource-attribute --attrFile cra.yaml`.\n",
    "\n",
    "A workflow that's production-ready can also run in the development domain. \n",
    "All the features we've seen are especially useful when running in production but should work either way!\n",
    "\n",
    "You should also be able to reference tasks and workflows from other projects and domains.\n",
    "\n",
    "```python\n",
    "@reference_task(\n",
    "    project=\"flytesnacks\",\n",
    "    domain=\"development\",\n",
    "    name=\"data_types_and_io.file.normalize_columns\",\n",
    "    version=\"{{ registration.version }}\",\n",
    ")\n",
    "def normalize_columns(\n",
    "    csv_url: FlyteFile,\n",
    "    column_names: List[str],\n",
    "    columns_to_normalize: List[str],\n",
    "    output_location: str,\n",
    ") -> FlyteFile:\n",
    "    ...\n",
    "```\n",
    "\n",
    "## Conclusion\n",
    "\n",
    "Congrats!\n",
    "\n",
    "You've made it through to the end of this module! To recap, we've:\n",
    "\n",
    "- Briefly explored the basic constructs of Flyte: tasks and workflows\n",
    "- Understood how you can develop pipelines locally\n",
    "- Recognized how easy it is to run workflows on a Flyte cluster\n",
    "- Understood which features to leverage to make your pipelines production-ready\n",
    "- Learned how to transition pipelines from development to production\n",
    "\n",
    "### Resources\n",
    "\n",
    "<a href=\"https://docs.flyte.org/en/latest/\">\n",
    "    <img src=\"https://img.shields.io/badge/Flyte-Docs-purple?style=for-the-badge\" alt=\"Flyte Docs\" />\n",
    "</a>\n",
    "<a href=\"https://slack.flyte.org\">\n",
    "    <img src=\"https://img.shields.io/badge/Slack-Chat-pink?style=for-the-badge&logo=slack\" alt=\"Flyte Slack\" />\n",
    "</a>\n",
    "<a href=\"https://github.com/flyteorg/flyte\">\n",
    "    <img src=\"https://img.shields.io/badge/Flyte-Github%20Repo-black?style=for-the-badge&logo=github\" alt=\"Flyte Repo\" />\n",
    "</a>"
   ]
  }
 ],
 "metadata": {
  "kernelspec": {
   "display_name": "flyte-school",
   "language": "python",
   "name": "python3"
  },
  "language_info": {
   "codemirror_mode": {
    "name": "ipython",
    "version": 3
   },
   "file_extension": ".py",
   "mimetype": "text/x-python",
   "name": "python",
   "nbconvert_exporter": "python",
   "pygments_lexer": "ipython3",
   "version": "3.11.2"
  }
 },
 "nbformat": 4,
 "nbformat_minor": 2
}
